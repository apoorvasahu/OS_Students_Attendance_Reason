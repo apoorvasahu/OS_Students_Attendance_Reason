{
 "cells": [
  {
   "cell_type": "markdown",
   "metadata": {},
   "source": [
    "# Effect of delay intervals of teacher joining the live class on student's attendance in lectures."
   ]
  },
  {
   "cell_type": "markdown",
   "metadata": {},
   "source": [
    "#### Dataframe: For a respective lecture; strength of students, students attending the lecture, attendance%, students attending within different delay intervals is calculated. \n",
    "\n",
    "#### In the data we have excluded the lectures where the present students is zero. \n",
    "\n",
    "#### Delay is the difference between the scheduled time of the lecture and the actual start time of the lecture. The actual start time of the lecture is extracted when the teacher starts the class for the first time. Excluded the cases where teacher starts the class and leaves the class multiple times or in case of power cut or internet issue. The very first time when teacher clicks on start live class is considered here. \n",
    "\n",
    "**Attendance is the present students divided by the total strength of students of the lecture.**\n",
    "\n"
   ]
  },
  {
   "cell_type": "code",
   "execution_count": 29,
   "metadata": {},
   "outputs": [],
   "source": [
    "import numpy as np\n",
    "import pandas as pd\n",
    "import seaborn as sns\n",
    "import matplotlib.pyplot as plt\n",
    "# from fastparquet import write, ParquetFile\n"
   ]
  },
  {
   "cell_type": "code",
   "execution_count": 30,
   "metadata": {},
   "outputs": [],
   "source": [
    "# df = pd.read_parquet('C:/Users/Apoorva/OneDrive/Documents/ML_Practice/DataSets-Practice ML/attendanc.parquet', engine='auto')\n"
   ]
  },
  {
   "cell_type": "code",
   "execution_count": 31,
   "metadata": {},
   "outputs": [],
   "source": [
    "# df.to_csv('attendance.csv')"
   ]
  },
  {
   "cell_type": "code",
   "execution_count": 32,
   "metadata": {},
   "outputs": [],
   "source": [
    "df=pd.read_csv('C:/Users/Apoorva/OneDrive/Documents/ML_Practice/DataSets-Practice ML/lec_att.csv')\n"
   ]
  },
  {
   "cell_type": "code",
   "execution_count": 33,
   "metadata": {},
   "outputs": [
    {
     "data": {
      "text/html": [
       "<div>\n",
       "<style scoped>\n",
       "    .dataframe tbody tr th:only-of-type {\n",
       "        vertical-align: middle;\n",
       "    }\n",
       "\n",
       "    .dataframe tbody tr th {\n",
       "        vertical-align: top;\n",
       "    }\n",
       "\n",
       "    .dataframe thead th {\n",
       "        text-align: right;\n",
       "    }\n",
       "</style>\n",
       "<table border=\"1\" class=\"dataframe\">\n",
       "  <thead>\n",
       "    <tr style=\"text-align: right;\">\n",
       "      <th></th>\n",
       "      <th>live_lecture_id</th>\n",
       "      <th>delay_diff_min</th>\n",
       "      <th>strength</th>\n",
       "      <th>present</th>\n",
       "      <th>attendance</th>\n",
       "    </tr>\n",
       "  </thead>\n",
       "  <tbody>\n",
       "    <tr>\n",
       "      <th>0</th>\n",
       "      <td>2394932</td>\n",
       "      <td>0.450000</td>\n",
       "      <td>28</td>\n",
       "      <td>26</td>\n",
       "      <td>92.857143</td>\n",
       "    </tr>\n",
       "    <tr>\n",
       "      <th>1</th>\n",
       "      <td>2394945</td>\n",
       "      <td>-1.066667</td>\n",
       "      <td>30</td>\n",
       "      <td>20</td>\n",
       "      <td>66.666667</td>\n",
       "    </tr>\n",
       "    <tr>\n",
       "      <th>2</th>\n",
       "      <td>2395969</td>\n",
       "      <td>0.816667</td>\n",
       "      <td>26</td>\n",
       "      <td>14</td>\n",
       "      <td>53.846154</td>\n",
       "    </tr>\n",
       "    <tr>\n",
       "      <th>3</th>\n",
       "      <td>2397597</td>\n",
       "      <td>2.150000</td>\n",
       "      <td>27</td>\n",
       "      <td>21</td>\n",
       "      <td>77.777778</td>\n",
       "    </tr>\n",
       "    <tr>\n",
       "      <th>4</th>\n",
       "      <td>2397605</td>\n",
       "      <td>3.533333</td>\n",
       "      <td>26</td>\n",
       "      <td>22</td>\n",
       "      <td>84.615385</td>\n",
       "    </tr>\n",
       "    <tr>\n",
       "      <th>...</th>\n",
       "      <td>...</td>\n",
       "      <td>...</td>\n",
       "      <td>...</td>\n",
       "      <td>...</td>\n",
       "      <td>...</td>\n",
       "    </tr>\n",
       "    <tr>\n",
       "      <th>1174675</th>\n",
       "      <td>4695902</td>\n",
       "      <td>-0.700000</td>\n",
       "      <td>36</td>\n",
       "      <td>17</td>\n",
       "      <td>47.222222</td>\n",
       "    </tr>\n",
       "    <tr>\n",
       "      <th>1174676</th>\n",
       "      <td>4696469</td>\n",
       "      <td>-1.066667</td>\n",
       "      <td>36</td>\n",
       "      <td>11</td>\n",
       "      <td>30.555556</td>\n",
       "    </tr>\n",
       "    <tr>\n",
       "      <th>1174677</th>\n",
       "      <td>4697938</td>\n",
       "      <td>-0.600000</td>\n",
       "      <td>32</td>\n",
       "      <td>11</td>\n",
       "      <td>34.375000</td>\n",
       "    </tr>\n",
       "    <tr>\n",
       "      <th>1174678</th>\n",
       "      <td>4698693</td>\n",
       "      <td>-0.400000</td>\n",
       "      <td>47</td>\n",
       "      <td>3</td>\n",
       "      <td>6.382979</td>\n",
       "    </tr>\n",
       "    <tr>\n",
       "      <th>1174679</th>\n",
       "      <td>4702452</td>\n",
       "      <td>7.516667</td>\n",
       "      <td>36</td>\n",
       "      <td>1</td>\n",
       "      <td>2.777778</td>\n",
       "    </tr>\n",
       "  </tbody>\n",
       "</table>\n",
       "<p>1174680 rows × 5 columns</p>\n",
       "</div>"
      ],
      "text/plain": [
       "         live_lecture_id  delay_diff_min  strength  present  attendance\n",
       "0                2394932        0.450000        28       26   92.857143\n",
       "1                2394945       -1.066667        30       20   66.666667\n",
       "2                2395969        0.816667        26       14   53.846154\n",
       "3                2397597        2.150000        27       21   77.777778\n",
       "4                2397605        3.533333        26       22   84.615385\n",
       "...                  ...             ...       ...      ...         ...\n",
       "1174675          4695902       -0.700000        36       17   47.222222\n",
       "1174676          4696469       -1.066667        36       11   30.555556\n",
       "1174677          4697938       -0.600000        32       11   34.375000\n",
       "1174678          4698693       -0.400000        47        3    6.382979\n",
       "1174679          4702452        7.516667        36        1    2.777778\n",
       "\n",
       "[1174680 rows x 5 columns]"
      ]
     },
     "execution_count": 33,
     "metadata": {},
     "output_type": "execute_result"
    }
   ],
   "source": [
    "df"
   ]
  },
  {
   "cell_type": "code",
   "execution_count": 34,
   "metadata": {},
   "outputs": [],
   "source": [
    "# df['week'] = pd.to_datetime(df['week'])"
   ]
  },
  {
   "cell_type": "code",
   "execution_count": 35,
   "metadata": {
    "scrolled": true
   },
   "outputs": [],
   "source": [
    "df['delay_diff_min']=df['delay_diff_min'].astype(int)\n",
    "df['attendance']=df['attendance'].astype(int)"
   ]
  },
  {
   "cell_type": "code",
   "execution_count": 36,
   "metadata": {},
   "outputs": [],
   "source": [
    "# df.groupby('week')['delay_diff_min'].mean()"
   ]
  },
  {
   "cell_type": "code",
   "execution_count": 37,
   "metadata": {},
   "outputs": [
    {
     "name": "stdout",
     "output_type": "stream",
     "text": [
      "<class 'pandas.core.frame.DataFrame'>\n",
      "RangeIndex: 1174680 entries, 0 to 1174679\n",
      "Data columns (total 5 columns):\n",
      " #   Column           Non-Null Count    Dtype\n",
      "---  ------           --------------    -----\n",
      " 0   live_lecture_id  1174680 non-null  int64\n",
      " 1   delay_diff_min   1174680 non-null  int32\n",
      " 2   strength         1174680 non-null  int64\n",
      " 3   present          1174680 non-null  int64\n",
      " 4   attendance       1174680 non-null  int32\n",
      "dtypes: int32(2), int64(3)\n",
      "memory usage: 35.8 MB\n"
     ]
    }
   ],
   "source": [
    "df.info()"
   ]
  },
  {
   "cell_type": "markdown",
   "metadata": {},
   "source": [
    "### The dataframe "
   ]
  },
  {
   "cell_type": "code",
   "execution_count": 38,
   "metadata": {},
   "outputs": [
    {
     "data": {
      "text/html": [
       "<div>\n",
       "<style scoped>\n",
       "    .dataframe tbody tr th:only-of-type {\n",
       "        vertical-align: middle;\n",
       "    }\n",
       "\n",
       "    .dataframe tbody tr th {\n",
       "        vertical-align: top;\n",
       "    }\n",
       "\n",
       "    .dataframe thead th {\n",
       "        text-align: right;\n",
       "    }\n",
       "</style>\n",
       "<table border=\"1\" class=\"dataframe\">\n",
       "  <thead>\n",
       "    <tr style=\"text-align: right;\">\n",
       "      <th></th>\n",
       "      <th>live_lecture_id</th>\n",
       "      <th>delay_diff_min</th>\n",
       "      <th>strength</th>\n",
       "      <th>present</th>\n",
       "      <th>attendance</th>\n",
       "    </tr>\n",
       "  </thead>\n",
       "  <tbody>\n",
       "    <tr>\n",
       "      <th>0</th>\n",
       "      <td>2394932</td>\n",
       "      <td>0</td>\n",
       "      <td>28</td>\n",
       "      <td>26</td>\n",
       "      <td>92</td>\n",
       "    </tr>\n",
       "    <tr>\n",
       "      <th>1</th>\n",
       "      <td>2394945</td>\n",
       "      <td>-1</td>\n",
       "      <td>30</td>\n",
       "      <td>20</td>\n",
       "      <td>66</td>\n",
       "    </tr>\n",
       "    <tr>\n",
       "      <th>2</th>\n",
       "      <td>2395969</td>\n",
       "      <td>0</td>\n",
       "      <td>26</td>\n",
       "      <td>14</td>\n",
       "      <td>53</td>\n",
       "    </tr>\n",
       "    <tr>\n",
       "      <th>3</th>\n",
       "      <td>2397597</td>\n",
       "      <td>2</td>\n",
       "      <td>27</td>\n",
       "      <td>21</td>\n",
       "      <td>77</td>\n",
       "    </tr>\n",
       "    <tr>\n",
       "      <th>4</th>\n",
       "      <td>2397605</td>\n",
       "      <td>3</td>\n",
       "      <td>26</td>\n",
       "      <td>22</td>\n",
       "      <td>84</td>\n",
       "    </tr>\n",
       "    <tr>\n",
       "      <th>...</th>\n",
       "      <td>...</td>\n",
       "      <td>...</td>\n",
       "      <td>...</td>\n",
       "      <td>...</td>\n",
       "      <td>...</td>\n",
       "    </tr>\n",
       "    <tr>\n",
       "      <th>1174675</th>\n",
       "      <td>4695902</td>\n",
       "      <td>0</td>\n",
       "      <td>36</td>\n",
       "      <td>17</td>\n",
       "      <td>47</td>\n",
       "    </tr>\n",
       "    <tr>\n",
       "      <th>1174676</th>\n",
       "      <td>4696469</td>\n",
       "      <td>-1</td>\n",
       "      <td>36</td>\n",
       "      <td>11</td>\n",
       "      <td>30</td>\n",
       "    </tr>\n",
       "    <tr>\n",
       "      <th>1174677</th>\n",
       "      <td>4697938</td>\n",
       "      <td>0</td>\n",
       "      <td>32</td>\n",
       "      <td>11</td>\n",
       "      <td>34</td>\n",
       "    </tr>\n",
       "    <tr>\n",
       "      <th>1174678</th>\n",
       "      <td>4698693</td>\n",
       "      <td>0</td>\n",
       "      <td>47</td>\n",
       "      <td>3</td>\n",
       "      <td>6</td>\n",
       "    </tr>\n",
       "    <tr>\n",
       "      <th>1174679</th>\n",
       "      <td>4702452</td>\n",
       "      <td>7</td>\n",
       "      <td>36</td>\n",
       "      <td>1</td>\n",
       "      <td>2</td>\n",
       "    </tr>\n",
       "  </tbody>\n",
       "</table>\n",
       "<p>1174680 rows × 5 columns</p>\n",
       "</div>"
      ],
      "text/plain": [
       "         live_lecture_id  delay_diff_min  strength  present  attendance\n",
       "0                2394932               0        28       26          92\n",
       "1                2394945              -1        30       20          66\n",
       "2                2395969               0        26       14          53\n",
       "3                2397597               2        27       21          77\n",
       "4                2397605               3        26       22          84\n",
       "...                  ...             ...       ...      ...         ...\n",
       "1174675          4695902               0        36       17          47\n",
       "1174676          4696469              -1        36       11          30\n",
       "1174677          4697938               0        32       11          34\n",
       "1174678          4698693               0        47        3           6\n",
       "1174679          4702452               7        36        1           2\n",
       "\n",
       "[1174680 rows x 5 columns]"
      ]
     },
     "execution_count": 38,
     "metadata": {},
     "output_type": "execute_result"
    }
   ],
   "source": [
    "df"
   ]
  },
  {
   "cell_type": "code",
   "execution_count": 10,
   "metadata": {},
   "outputs": [],
   "source": [
    "conditions = [\n",
    "    (df['delay_diff_min'] <= 0),\n",
    "    (df['delay_diff_min'] >= 0) & (df['delay_diff_min'] <= 1),\n",
    "    (df['delay_diff_min'] >= 2) & (df['delay_diff_min'] <= 3),\n",
    "    (df['delay_diff_min'] >= 4) & (df['delay_diff_min'] <= 5),\n",
    "    (df['delay_diff_min'] >= 6) & (df['delay_diff_min'] <= 8),\n",
    "    (df['delay_diff_min'] >= 9) & (df['delay_diff_min'] <= 10),\n",
    "    (df['delay_diff_min'] >= 11) & (df['delay_diff_min'] <= 12),\n",
    "    (df['delay_diff_min'] >= 13) & (df['delay_diff_min'] <= 14),\n",
    "    (df['delay_diff_min'] >= 15) & (df['delay_diff_min'] <= 18),\n",
    "    (df['delay_diff_min'] >= 19) & (df['delay_diff_min'] <= 20),\n",
    "    (df['delay_diff_min'] >= 21)\n",
    "    ]\n",
    "\n"
   ]
  },
  {
   "cell_type": "markdown",
   "metadata": {},
   "source": [
    "####  Creating a list of the values we want to assign for each condition\n"
   ]
  },
  {
   "cell_type": "code",
   "execution_count": 11,
   "metadata": {},
   "outputs": [],
   "source": [
    "values = ['no_delay', 'delay_0-1min',  'delay_2-3min', 'delay_4-5min', \n",
    "          'delay_6-8min', 'delay_9-10min', 'delay_11-12min', 'delay_13-14min', \n",
    "          'delay_15-18min', 'delay_19-20min',  'delay_>21min']\n"
   ]
  },
  {
   "cell_type": "markdown",
   "metadata": {},
   "source": [
    "#### Creating a new column and using np.select to assign values to it using our lists as arguments\n"
   ]
  },
  {
   "cell_type": "code",
   "execution_count": 12,
   "metadata": {},
   "outputs": [],
   "source": [
    "\n",
    "df['delay_Category'] = np.select(conditions, values)"
   ]
  },
  {
   "cell_type": "code",
   "execution_count": 13,
   "metadata": {},
   "outputs": [],
   "source": [
    "# df['delay_Category']=0\n",
    "\n",
    "# def conditions(d1, d2, val):\n",
    "#     for i in range(len(df['delay_diff_min'])):\n",
    "#         df['delay_Category'][df['delay_diff_min']>=d1 and df['delay_diff_min']<=d2]=val\n",
    "\n"
   ]
  },
  {
   "cell_type": "code",
   "execution_count": 14,
   "metadata": {},
   "outputs": [],
   "source": [
    "# df[\"delay_Category\"] = df[\"delay_diff_min\"].apply(lambda x: conditions(d1,d2,val))"
   ]
  },
  {
   "cell_type": "code",
   "execution_count": 15,
   "metadata": {},
   "outputs": [
    {
     "data": {
      "text/html": [
       "<div>\n",
       "<style scoped>\n",
       "    .dataframe tbody tr th:only-of-type {\n",
       "        vertical-align: middle;\n",
       "    }\n",
       "\n",
       "    .dataframe tbody tr th {\n",
       "        vertical-align: top;\n",
       "    }\n",
       "\n",
       "    .dataframe thead th {\n",
       "        text-align: right;\n",
       "    }\n",
       "</style>\n",
       "<table border=\"1\" class=\"dataframe\">\n",
       "  <thead>\n",
       "    <tr style=\"text-align: right;\">\n",
       "      <th></th>\n",
       "      <th>live_lecture_id</th>\n",
       "      <th>delay_diff_min</th>\n",
       "      <th>strength</th>\n",
       "      <th>present</th>\n",
       "      <th>attendance</th>\n",
       "      <th>delay_Category</th>\n",
       "    </tr>\n",
       "  </thead>\n",
       "  <tbody>\n",
       "    <tr>\n",
       "      <th>0</th>\n",
       "      <td>2394932</td>\n",
       "      <td>0</td>\n",
       "      <td>28</td>\n",
       "      <td>26</td>\n",
       "      <td>92</td>\n",
       "      <td>no_delay</td>\n",
       "    </tr>\n",
       "    <tr>\n",
       "      <th>1</th>\n",
       "      <td>2394945</td>\n",
       "      <td>-1</td>\n",
       "      <td>30</td>\n",
       "      <td>20</td>\n",
       "      <td>66</td>\n",
       "      <td>no_delay</td>\n",
       "    </tr>\n",
       "    <tr>\n",
       "      <th>2</th>\n",
       "      <td>2395969</td>\n",
       "      <td>0</td>\n",
       "      <td>26</td>\n",
       "      <td>14</td>\n",
       "      <td>53</td>\n",
       "      <td>no_delay</td>\n",
       "    </tr>\n",
       "    <tr>\n",
       "      <th>3</th>\n",
       "      <td>2397597</td>\n",
       "      <td>2</td>\n",
       "      <td>27</td>\n",
       "      <td>21</td>\n",
       "      <td>77</td>\n",
       "      <td>delay_2-3min</td>\n",
       "    </tr>\n",
       "    <tr>\n",
       "      <th>4</th>\n",
       "      <td>2397605</td>\n",
       "      <td>3</td>\n",
       "      <td>26</td>\n",
       "      <td>22</td>\n",
       "      <td>84</td>\n",
       "      <td>delay_2-3min</td>\n",
       "    </tr>\n",
       "    <tr>\n",
       "      <th>...</th>\n",
       "      <td>...</td>\n",
       "      <td>...</td>\n",
       "      <td>...</td>\n",
       "      <td>...</td>\n",
       "      <td>...</td>\n",
       "      <td>...</td>\n",
       "    </tr>\n",
       "    <tr>\n",
       "      <th>1174675</th>\n",
       "      <td>4695902</td>\n",
       "      <td>0</td>\n",
       "      <td>36</td>\n",
       "      <td>17</td>\n",
       "      <td>47</td>\n",
       "      <td>no_delay</td>\n",
       "    </tr>\n",
       "    <tr>\n",
       "      <th>1174676</th>\n",
       "      <td>4696469</td>\n",
       "      <td>-1</td>\n",
       "      <td>36</td>\n",
       "      <td>11</td>\n",
       "      <td>30</td>\n",
       "      <td>no_delay</td>\n",
       "    </tr>\n",
       "    <tr>\n",
       "      <th>1174677</th>\n",
       "      <td>4697938</td>\n",
       "      <td>0</td>\n",
       "      <td>32</td>\n",
       "      <td>11</td>\n",
       "      <td>34</td>\n",
       "      <td>no_delay</td>\n",
       "    </tr>\n",
       "    <tr>\n",
       "      <th>1174678</th>\n",
       "      <td>4698693</td>\n",
       "      <td>0</td>\n",
       "      <td>47</td>\n",
       "      <td>3</td>\n",
       "      <td>6</td>\n",
       "      <td>no_delay</td>\n",
       "    </tr>\n",
       "    <tr>\n",
       "      <th>1174679</th>\n",
       "      <td>4702452</td>\n",
       "      <td>7</td>\n",
       "      <td>36</td>\n",
       "      <td>1</td>\n",
       "      <td>2</td>\n",
       "      <td>delay_6-8min</td>\n",
       "    </tr>\n",
       "  </tbody>\n",
       "</table>\n",
       "<p>1174680 rows × 6 columns</p>\n",
       "</div>"
      ],
      "text/plain": [
       "         live_lecture_id  delay_diff_min  strength  present  attendance  \\\n",
       "0                2394932               0        28       26          92   \n",
       "1                2394945              -1        30       20          66   \n",
       "2                2395969               0        26       14          53   \n",
       "3                2397597               2        27       21          77   \n",
       "4                2397605               3        26       22          84   \n",
       "...                  ...             ...       ...      ...         ...   \n",
       "1174675          4695902               0        36       17          47   \n",
       "1174676          4696469              -1        36       11          30   \n",
       "1174677          4697938               0        32       11          34   \n",
       "1174678          4698693               0        47        3           6   \n",
       "1174679          4702452               7        36        1           2   \n",
       "\n",
       "        delay_Category  \n",
       "0             no_delay  \n",
       "1             no_delay  \n",
       "2             no_delay  \n",
       "3         delay_2-3min  \n",
       "4         delay_2-3min  \n",
       "...                ...  \n",
       "1174675       no_delay  \n",
       "1174676       no_delay  \n",
       "1174677       no_delay  \n",
       "1174678       no_delay  \n",
       "1174679   delay_6-8min  \n",
       "\n",
       "[1174680 rows x 6 columns]"
      ]
     },
     "execution_count": 15,
     "metadata": {},
     "output_type": "execute_result"
    }
   ],
   "source": [
    "df"
   ]
  },
  {
   "cell_type": "code",
   "execution_count": 16,
   "metadata": {},
   "outputs": [
    {
     "data": {
      "text/html": [
       "<div>\n",
       "<style scoped>\n",
       "    .dataframe tbody tr th:only-of-type {\n",
       "        vertical-align: middle;\n",
       "    }\n",
       "\n",
       "    .dataframe tbody tr th {\n",
       "        vertical-align: top;\n",
       "    }\n",
       "\n",
       "    .dataframe thead th {\n",
       "        text-align: right;\n",
       "    }\n",
       "</style>\n",
       "<table border=\"1\" class=\"dataframe\">\n",
       "  <thead>\n",
       "    <tr style=\"text-align: right;\">\n",
       "      <th></th>\n",
       "      <th>live_lecture_id</th>\n",
       "      <th>delay_diff_min</th>\n",
       "      <th>strength</th>\n",
       "      <th>present</th>\n",
       "      <th>attendance</th>\n",
       "    </tr>\n",
       "    <tr>\n",
       "      <th>delay_Category</th>\n",
       "      <th></th>\n",
       "      <th></th>\n",
       "      <th></th>\n",
       "      <th></th>\n",
       "      <th></th>\n",
       "    </tr>\n",
       "  </thead>\n",
       "  <tbody>\n",
       "    <tr>\n",
       "      <th>delay_0-1min</th>\n",
       "      <td>206330</td>\n",
       "      <td>1</td>\n",
       "      <td>334</td>\n",
       "      <td>161</td>\n",
       "      <td>100</td>\n",
       "    </tr>\n",
       "    <tr>\n",
       "      <th>delay_11-12min</th>\n",
       "      <td>2277</td>\n",
       "      <td>2</td>\n",
       "      <td>158</td>\n",
       "      <td>85</td>\n",
       "      <td>97</td>\n",
       "    </tr>\n",
       "    <tr>\n",
       "      <th>delay_13-14min</th>\n",
       "      <td>1227</td>\n",
       "      <td>2</td>\n",
       "      <td>145</td>\n",
       "      <td>72</td>\n",
       "      <td>96</td>\n",
       "    </tr>\n",
       "    <tr>\n",
       "      <th>delay_15-18min</th>\n",
       "      <td>1307</td>\n",
       "      <td>4</td>\n",
       "      <td>139</td>\n",
       "      <td>71</td>\n",
       "      <td>97</td>\n",
       "    </tr>\n",
       "    <tr>\n",
       "      <th>delay_19-20min</th>\n",
       "      <td>375</td>\n",
       "      <td>2</td>\n",
       "      <td>89</td>\n",
       "      <td>54</td>\n",
       "      <td>87</td>\n",
       "    </tr>\n",
       "    <tr>\n",
       "      <th>delay_2-3min</th>\n",
       "      <td>162272</td>\n",
       "      <td>2</td>\n",
       "      <td>324</td>\n",
       "      <td>157</td>\n",
       "      <td>100</td>\n",
       "    </tr>\n",
       "    <tr>\n",
       "      <th>delay_4-5min</th>\n",
       "      <td>47003</td>\n",
       "      <td>2</td>\n",
       "      <td>280</td>\n",
       "      <td>134</td>\n",
       "      <td>100</td>\n",
       "    </tr>\n",
       "    <tr>\n",
       "      <th>delay_6-8min</th>\n",
       "      <td>19890</td>\n",
       "      <td>3</td>\n",
       "      <td>256</td>\n",
       "      <td>129</td>\n",
       "      <td>100</td>\n",
       "    </tr>\n",
       "    <tr>\n",
       "      <th>delay_9-10min</th>\n",
       "      <td>4446</td>\n",
       "      <td>2</td>\n",
       "      <td>191</td>\n",
       "      <td>98</td>\n",
       "      <td>99</td>\n",
       "    </tr>\n",
       "    <tr>\n",
       "      <th>delay_&gt;21min</th>\n",
       "      <td>1021</td>\n",
       "      <td>36</td>\n",
       "      <td>138</td>\n",
       "      <td>64</td>\n",
       "      <td>95</td>\n",
       "    </tr>\n",
       "    <tr>\n",
       "      <th>no_delay</th>\n",
       "      <td>728532</td>\n",
       "      <td>6</td>\n",
       "      <td>399</td>\n",
       "      <td>211</td>\n",
       "      <td>100</td>\n",
       "    </tr>\n",
       "  </tbody>\n",
       "</table>\n",
       "</div>"
      ],
      "text/plain": [
       "                live_lecture_id  delay_diff_min  strength  present  attendance\n",
       "delay_Category                                                                \n",
       "delay_0-1min             206330               1       334      161         100\n",
       "delay_11-12min             2277               2       158       85          97\n",
       "delay_13-14min             1227               2       145       72          96\n",
       "delay_15-18min             1307               4       139       71          97\n",
       "delay_19-20min              375               2        89       54          87\n",
       "delay_2-3min             162272               2       324      157         100\n",
       "delay_4-5min              47003               2       280      134         100\n",
       "delay_6-8min              19890               3       256      129         100\n",
       "delay_9-10min              4446               2       191       98          99\n",
       "delay_>21min               1021              36       138       64          95\n",
       "no_delay                 728532               6       399      211         100"
      ]
     },
     "execution_count": 16,
     "metadata": {},
     "output_type": "execute_result"
    }
   ],
   "source": [
    "df.groupby('delay_Category').nunique()"
   ]
  },
  {
   "cell_type": "markdown",
   "metadata": {},
   "source": [
    "### Calculating lectures in each delay Category:"
   ]
  },
  {
   "cell_type": "code",
   "execution_count": 21,
   "metadata": {},
   "outputs": [
    {
     "data": {
      "text/plain": [
       "delay_Category\n",
       "delay_0-1min      206330\n",
       "delay_11-12min      2277\n",
       "delay_13-14min      1227\n",
       "delay_15-18min      1307\n",
       "delay_19-20min       375\n",
       "delay_2-3min      162272\n",
       "delay_4-5min       47003\n",
       "delay_6-8min       19890\n",
       "delay_9-10min       4446\n",
       "delay_>21min        1021\n",
       "no_delay          728532\n",
       "Name: live_lecture_id, dtype: int64"
      ]
     },
     "execution_count": 21,
     "metadata": {},
     "output_type": "execute_result"
    }
   ],
   "source": [
    "df.groupby('delay_Category')['live_lecture_id'].count()"
   ]
  },
  {
   "cell_type": "markdown",
   "metadata": {},
   "source": [
    "### Plotting attendance for all delay categories. "
   ]
  },
  {
   "cell_type": "code",
   "execution_count": 17,
   "metadata": {},
   "outputs": [
    {
     "data": {
      "text/plain": [
       "<matplotlib.axes._subplots.AxesSubplot at 0x195d81bc610>"
      ]
     },
     "execution_count": 17,
     "metadata": {},
     "output_type": "execute_result"
    },
    {
     "data": {
      "image/png": "[encoded data removed]",
      "text/plain": [
       "<Figure size 432x288 with 1 Axes>"
      ]
     },
     "metadata": {
      "needs_background": "light"
     },
     "output_type": "display_data"
    }
   ],
   "source": [
    "sns.distplot((df[df['delay_Category']=='no_delay']['attendance']), bins=10)"
   ]
  },
  {
   "cell_type": "code",
   "execution_count": 18,
   "metadata": {},
   "outputs": [
    {
     "data": {
      "text/plain": [
       "<matplotlib.axes._subplots.AxesSubplot at 0x195dd34b490>"
      ]
     },
     "execution_count": 18,
     "metadata": {},
     "output_type": "execute_result"
    },
    {
     "data": {
      "image/png": "[encoded data removed]",
      "text/plain": [
       "<Figure size 432x288 with 1 Axes>"
      ]
     },
     "metadata": {
      "needs_background": "light"
     },
     "output_type": "display_data"
    }
   ],
   "source": [
    "sns.distplot((df[df['delay_Category']=='delay_0-1min']['attendance']), bins=10)"
   ]
  },
  {
   "cell_type": "code",
   "execution_count": 19,
   "metadata": {},
   "outputs": [
    {
     "data": {
      "text/plain": [
       "<matplotlib.axes._subplots.AxesSubplot at 0x195decbe7c0>"
      ]
     },
     "execution_count": 19,
     "metadata": {},
     "output_type": "execute_result"
    },
    {
     "data": {
      "image/png": "[encoded data removed]",
      "text/plain": [
       "<Figure size 432x288 with 1 Axes>"
      ]
     },
     "metadata": {
      "needs_background": "light"
     },
     "output_type": "display_data"
    }
   ],
   "source": [
    "sns.distplot((df[df['delay_Category']=='delay_2-3min']['attendance']), bins=10)"
   ]
  },
  {
   "cell_type": "code",
   "execution_count": 20,
   "metadata": {},
   "outputs": [
    {
     "data": {
      "text/plain": [
       "<matplotlib.axes._subplots.AxesSubplot at 0x195ded47250>"
      ]
     },
     "execution_count": 20,
     "metadata": {},
     "output_type": "execute_result"
    },
    {
     "data": {
      "image/png": "[encoded data removed]",
      "text/plain": [
       "<Figure size 432x288 with 1 Axes>"
      ]
     },
     "metadata": {
      "needs_background": "light"
     },
     "output_type": "display_data"
    }
   ],
   "source": [
    "sns.distplot((df[df['delay_Category']=='delay_4-5min']['attendance']), bins=10)"
   ]
  },
  {
   "cell_type": "code",
   "execution_count": 21,
   "metadata": {},
   "outputs": [
    {
     "data": {
      "text/plain": [
       "<matplotlib.axes._subplots.AxesSubplot at 0x195deda7280>"
      ]
     },
     "execution_count": 21,
     "metadata": {},
     "output_type": "execute_result"
    },
    {
     "data": {
      "image/png": "[encoded data removed]",
      "text/plain": [
       "<Figure size 432x288 with 1 Axes>"
      ]
     },
     "metadata": {
      "needs_background": "light"
     },
     "output_type": "display_data"
    }
   ],
   "source": [
    "sns.distplot((df[df['delay_Category']=='delay_6-8min']['attendance']), bins=10)"
   ]
  },
  {
   "cell_type": "code",
   "execution_count": 22,
   "metadata": {},
   "outputs": [
    {
     "data": {
      "text/plain": [
       "<matplotlib.axes._subplots.AxesSubplot at 0x195dee26d30>"
      ]
     },
     "execution_count": 22,
     "metadata": {},
     "output_type": "execute_result"
    },
    {
     "data": {
      "image/png": "[encoded data removed]",
      "text/plain": [
       "<Figure size 432x288 with 1 Axes>"
      ]
     },
     "metadata": {
      "needs_background": "light"
     },
     "output_type": "display_data"
    }
   ],
   "source": [
    "sns.distplot((df[df['delay_Category']=='delay_9-10min']['attendance']), bins=10)"
   ]
  },
  {
   "cell_type": "code",
   "execution_count": 23,
   "metadata": {},
   "outputs": [
    {
     "data": {
      "text/plain": [
       "<matplotlib.axes._subplots.AxesSubplot at 0x195dee8f250>"
      ]
     },
     "execution_count": 23,
     "metadata": {},
     "output_type": "execute_result"
    },
    {
     "data": {
      "image/png": "[encoded data removed]",
      "text/plain": [
       "<Figure size 432x288 with 1 Axes>"
      ]
     },
     "metadata": {
      "needs_background": "light"
     },
     "output_type": "display_data"
    }
   ],
   "source": [
    "sns.distplot((df[df['delay_Category']=='delay_11-12min']['attendance']), bins=10)"
   ]
  },
  {
   "cell_type": "code",
   "execution_count": 24,
   "metadata": {},
   "outputs": [
    {
     "data": {
      "text/plain": [
       "<matplotlib.axes._subplots.AxesSubplot at 0x195deefe220>"
      ]
     },
     "execution_count": 24,
     "metadata": {},
     "output_type": "execute_result"
    },
    {
     "data": {
      "image/png": "[encoded data removed]",
      "text/plain": [
       "<Figure size 432x288 with 1 Axes>"
      ]
     },
     "metadata": {
      "needs_background": "light"
     },
     "output_type": "display_data"
    }
   ],
   "source": [
    "sns.distplot((df[df['delay_Category']=='delay_13-14min']['attendance']), bins=10)"
   ]
  },
  {
   "cell_type": "code",
   "execution_count": 25,
   "metadata": {},
   "outputs": [
    {
     "data": {
      "text/plain": [
       "<matplotlib.axes._subplots.AxesSubplot at 0x195def7e4f0>"
      ]
     },
     "execution_count": 25,
     "metadata": {},
     "output_type": "execute_result"
    },
    {
     "data": {
      "image/png": "[encoded data removed]",
      "text/plain": [
       "<Figure size 432x288 with 1 Axes>"
      ]
     },
     "metadata": {
      "needs_background": "light"
     },
     "output_type": "display_data"
    }
   ],
   "source": [
    "sns.distplot((df[df['delay_Category']=='delay_15-18min']['attendance']), bins=10)\n"
   ]
  },
  {
   "cell_type": "code",
   "execution_count": 26,
   "metadata": {},
   "outputs": [
    {
     "data": {
      "text/plain": [
       "<matplotlib.axes._subplots.AxesSubplot at 0x195deef9850>"
      ]
     },
     "execution_count": 26,
     "metadata": {},
     "output_type": "execute_result"
    },
    {
     "data": {
      "image/png": "[encoded data removed]",
      "text/plain": [
       "<Figure size 432x288 with 1 Axes>"
      ]
     },
     "metadata": {
      "needs_background": "light"
     },
     "output_type": "display_data"
    }
   ],
   "source": [
    "sns.distplot((df[df['delay_Category']=='delay_19-20min']['attendance']), bins=10)\n",
    "\n"
   ]
  },
  {
   "cell_type": "code",
   "execution_count": 27,
   "metadata": {},
   "outputs": [
    {
     "data": {
      "text/plain": [
       "<matplotlib.axes._subplots.AxesSubplot at 0x195df04a370>"
      ]
     },
     "execution_count": 27,
     "metadata": {},
     "output_type": "execute_result"
    },
    {
     "data": {
      "image/png": "[encoded data removed]",
      "text/plain": [
       "<Figure size 432x288 with 1 Axes>"
      ]
     },
     "metadata": {
      "needs_background": "light"
     },
     "output_type": "display_data"
    }
   ],
   "source": [
    "sns.distplot((df[df['delay_Category']=='delay_>21min']['attendance']), bins=10)\n"
   ]
  },
  {
   "cell_type": "markdown",
   "metadata": {},
   "source": [
    "### As you can see in the above plots as the delay increases the attendance distribution gets shifted to left as in decreases. \n",
    "### The more is the delay of teacher starting the live class, the lesser is attendance in the lectures. "
   ]
  },
  {
   "cell_type": "code",
   "execution_count": null,
   "metadata": {},
   "outputs": [],
   "source": []
  }
 ],
 "metadata": {
  "kernelspec": {
   "display_name": "Python 3",
   "language": "python",
   "name": "python3"
  },
  "language_info": {
   "codemirror_mode": {
    "name": "ipython",
    "version": 3
   },
   "file_extension": ".py",
   "mimetype": "text/x-python",
   "name": "python",
   "nbconvert_exporter": "python",
   "pygments_lexer": "ipython3",
   "version": "3.8.3"
  }
 },
 "nbformat": 4,
 "nbformat_minor": 4
}
