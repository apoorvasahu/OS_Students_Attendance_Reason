{
 "cells": [
  {
   "cell_type": "markdown",
   "metadata": {},
   "source": [
    "##  Effect of delay intervals of teacher joining the live class on student's attendance in lectures.\n",
    "\n",
    "\n",
    "\n",
    "#### Dataframe:For a respective teacher we have calculated average delay time of all the lectures conducted by them. For each distinct teacher we have average strength of students/present students/attendance% in all the lectures conducted by them.\n",
    "\n",
    "\n",
    "#### In the data we have excluded the lectures of teacher where the present students is zero. \n",
    "\n",
    "#### Delay is the difference between the scheduled time of the lecture and the actual start time of the lecture. The actual start time of the lecture is extracted when the teacher starts the class for the first time. Excluded the cases where teacher starts the class and leaves the class multiple times or in case of power cut or internet issue. The very first time when teacher clicks on start live class is considered here. \n",
    "\n",
    "**Attendance is the present students divided by the total strength of students of the lecture.**\n",
    "\n"
   ]
  },
  {
   "cell_type": "code",
   "execution_count": 32,
   "metadata": {},
   "outputs": [],
   "source": [
    "import numpy as np\n",
    "import pandas as pd\n",
    "import seaborn as sns\n",
    "import matplotlib.pyplot as plt"
   ]
  },
  {
   "cell_type": "code",
   "execution_count": 33,
   "metadata": {},
   "outputs": [],
   "source": [
    "df=pd.read_csv(\"C:/Users/Apoorva/OneDrive/Documents/ML_Practice/DataSets-Practice ML/teach_class.csv\")"
   ]
  },
  {
   "cell_type": "code",
   "execution_count": 34,
   "metadata": {},
   "outputs": [],
   "source": [
    "# df['week'] = pd.to_datetime(df['week'])"
   ]
  },
  {
   "cell_type": "code",
   "execution_count": 35,
   "metadata": {},
   "outputs": [
    {
     "data": {
      "text/html": [
       "<div>\n",
       "<style scoped>\n",
       "    .dataframe tbody tr th:only-of-type {\n",
       "        vertical-align: middle;\n",
       "    }\n",
       "\n",
       "    .dataframe tbody tr th {\n",
       "        vertical-align: top;\n",
       "    }\n",
       "\n",
       "    .dataframe thead th {\n",
       "        text-align: right;\n",
       "    }\n",
       "</style>\n",
       "<table border=\"1\" class=\"dataframe\">\n",
       "  <thead>\n",
       "    <tr style=\"text-align: right;\">\n",
       "      <th></th>\n",
       "      <th>teacher_id</th>\n",
       "      <th>delay_diff_min</th>\n",
       "      <th>strength</th>\n",
       "      <th>present</th>\n",
       "      <th>attendance</th>\n",
       "    </tr>\n",
       "  </thead>\n",
       "  <tbody>\n",
       "    <tr>\n",
       "      <th>0</th>\n",
       "      <td>23</td>\n",
       "      <td>3.033621</td>\n",
       "      <td>48.409483</td>\n",
       "      <td>39.724138</td>\n",
       "      <td>81.331143</td>\n",
       "    </tr>\n",
       "    <tr>\n",
       "      <th>1</th>\n",
       "      <td>45</td>\n",
       "      <td>-1.041715</td>\n",
       "      <td>44.994152</td>\n",
       "      <td>32.713450</td>\n",
       "      <td>72.358714</td>\n",
       "    </tr>\n",
       "    <tr>\n",
       "      <th>2</th>\n",
       "      <td>50</td>\n",
       "      <td>-0.533224</td>\n",
       "      <td>38.546053</td>\n",
       "      <td>20.730263</td>\n",
       "      <td>53.150183</td>\n",
       "    </tr>\n",
       "    <tr>\n",
       "      <th>3</th>\n",
       "      <td>82</td>\n",
       "      <td>1.201471</td>\n",
       "      <td>47.941176</td>\n",
       "      <td>40.470588</td>\n",
       "      <td>84.120424</td>\n",
       "    </tr>\n",
       "    <tr>\n",
       "      <th>4</th>\n",
       "      <td>87</td>\n",
       "      <td>0.771449</td>\n",
       "      <td>32.086957</td>\n",
       "      <td>27.704348</td>\n",
       "      <td>86.236411</td>\n",
       "    </tr>\n",
       "    <tr>\n",
       "      <th>...</th>\n",
       "      <td>...</td>\n",
       "      <td>...</td>\n",
       "      <td>...</td>\n",
       "      <td>...</td>\n",
       "      <td>...</td>\n",
       "    </tr>\n",
       "    <tr>\n",
       "      <th>5498</th>\n",
       "      <td>11208</td>\n",
       "      <td>-2.408333</td>\n",
       "      <td>82.500000</td>\n",
       "      <td>4.750000</td>\n",
       "      <td>6.157658</td>\n",
       "    </tr>\n",
       "    <tr>\n",
       "      <th>5499</th>\n",
       "      <td>11212</td>\n",
       "      <td>1.164286</td>\n",
       "      <td>48.428571</td>\n",
       "      <td>14.142857</td>\n",
       "      <td>30.861611</td>\n",
       "    </tr>\n",
       "    <tr>\n",
       "      <th>5500</th>\n",
       "      <td>11254</td>\n",
       "      <td>-0.097436</td>\n",
       "      <td>34.615385</td>\n",
       "      <td>25.153846</td>\n",
       "      <td>72.091024</td>\n",
       "    </tr>\n",
       "    <tr>\n",
       "      <th>5501</th>\n",
       "      <td>11296</td>\n",
       "      <td>-0.825000</td>\n",
       "      <td>18.500000</td>\n",
       "      <td>18.000000</td>\n",
       "      <td>97.293494</td>\n",
       "    </tr>\n",
       "    <tr>\n",
       "      <th>5502</th>\n",
       "      <td>11415</td>\n",
       "      <td>1.103175</td>\n",
       "      <td>41.523810</td>\n",
       "      <td>32.714286</td>\n",
       "      <td>78.511314</td>\n",
       "    </tr>\n",
       "  </tbody>\n",
       "</table>\n",
       "<p>5503 rows × 5 columns</p>\n",
       "</div>"
      ],
      "text/plain": [
       "      teacher_id  delay_diff_min   strength    present  attendance\n",
       "0             23        3.033621  48.409483  39.724138   81.331143\n",
       "1             45       -1.041715  44.994152  32.713450   72.358714\n",
       "2             50       -0.533224  38.546053  20.730263   53.150183\n",
       "3             82        1.201471  47.941176  40.470588   84.120424\n",
       "4             87        0.771449  32.086957  27.704348   86.236411\n",
       "...          ...             ...        ...        ...         ...\n",
       "5498       11208       -2.408333  82.500000   4.750000    6.157658\n",
       "5499       11212        1.164286  48.428571  14.142857   30.861611\n",
       "5500       11254       -0.097436  34.615385  25.153846   72.091024\n",
       "5501       11296       -0.825000  18.500000  18.000000   97.293494\n",
       "5502       11415        1.103175  41.523810  32.714286   78.511314\n",
       "\n",
       "[5503 rows x 5 columns]"
      ]
     },
     "execution_count": 35,
     "metadata": {},
     "output_type": "execute_result"
    }
   ],
   "source": [
    "df"
   ]
  },
  {
   "cell_type": "code",
   "execution_count": 36,
   "metadata": {},
   "outputs": [],
   "source": [
    "df['delay_diff_min']=df['delay_diff_min'].astype(int)\n",
    "df['strength']=df['strength'].astype(int)\n",
    "df['present']=df['present'].astype(int)\n",
    "df['attendance']=df['attendance'].astype(int)\n"
   ]
  },
  {
   "cell_type": "markdown",
   "metadata": {},
   "source": [
    "### The dataframe"
   ]
  },
  {
   "cell_type": "code",
   "execution_count": 37,
   "metadata": {},
   "outputs": [
    {
     "data": {
      "text/html": [
       "<div>\n",
       "<style scoped>\n",
       "    .dataframe tbody tr th:only-of-type {\n",
       "        vertical-align: middle;\n",
       "    }\n",
       "\n",
       "    .dataframe tbody tr th {\n",
       "        vertical-align: top;\n",
       "    }\n",
       "\n",
       "    .dataframe thead th {\n",
       "        text-align: right;\n",
       "    }\n",
       "</style>\n",
       "<table border=\"1\" class=\"dataframe\">\n",
       "  <thead>\n",
       "    <tr style=\"text-align: right;\">\n",
       "      <th></th>\n",
       "      <th>teacher_id</th>\n",
       "      <th>delay_diff_min</th>\n",
       "      <th>strength</th>\n",
       "      <th>present</th>\n",
       "      <th>attendance</th>\n",
       "    </tr>\n",
       "  </thead>\n",
       "  <tbody>\n",
       "    <tr>\n",
       "      <th>0</th>\n",
       "      <td>23</td>\n",
       "      <td>3</td>\n",
       "      <td>48</td>\n",
       "      <td>39</td>\n",
       "      <td>81</td>\n",
       "    </tr>\n",
       "    <tr>\n",
       "      <th>1</th>\n",
       "      <td>45</td>\n",
       "      <td>-1</td>\n",
       "      <td>44</td>\n",
       "      <td>32</td>\n",
       "      <td>72</td>\n",
       "    </tr>\n",
       "    <tr>\n",
       "      <th>2</th>\n",
       "      <td>50</td>\n",
       "      <td>0</td>\n",
       "      <td>38</td>\n",
       "      <td>20</td>\n",
       "      <td>53</td>\n",
       "    </tr>\n",
       "    <tr>\n",
       "      <th>3</th>\n",
       "      <td>82</td>\n",
       "      <td>1</td>\n",
       "      <td>47</td>\n",
       "      <td>40</td>\n",
       "      <td>84</td>\n",
       "    </tr>\n",
       "    <tr>\n",
       "      <th>4</th>\n",
       "      <td>87</td>\n",
       "      <td>0</td>\n",
       "      <td>32</td>\n",
       "      <td>27</td>\n",
       "      <td>86</td>\n",
       "    </tr>\n",
       "    <tr>\n",
       "      <th>...</th>\n",
       "      <td>...</td>\n",
       "      <td>...</td>\n",
       "      <td>...</td>\n",
       "      <td>...</td>\n",
       "      <td>...</td>\n",
       "    </tr>\n",
       "    <tr>\n",
       "      <th>5498</th>\n",
       "      <td>11208</td>\n",
       "      <td>-2</td>\n",
       "      <td>82</td>\n",
       "      <td>4</td>\n",
       "      <td>6</td>\n",
       "    </tr>\n",
       "    <tr>\n",
       "      <th>5499</th>\n",
       "      <td>11212</td>\n",
       "      <td>1</td>\n",
       "      <td>48</td>\n",
       "      <td>14</td>\n",
       "      <td>30</td>\n",
       "    </tr>\n",
       "    <tr>\n",
       "      <th>5500</th>\n",
       "      <td>11254</td>\n",
       "      <td>0</td>\n",
       "      <td>34</td>\n",
       "      <td>25</td>\n",
       "      <td>72</td>\n",
       "    </tr>\n",
       "    <tr>\n",
       "      <th>5501</th>\n",
       "      <td>11296</td>\n",
       "      <td>0</td>\n",
       "      <td>18</td>\n",
       "      <td>18</td>\n",
       "      <td>97</td>\n",
       "    </tr>\n",
       "    <tr>\n",
       "      <th>5502</th>\n",
       "      <td>11415</td>\n",
       "      <td>1</td>\n",
       "      <td>41</td>\n",
       "      <td>32</td>\n",
       "      <td>78</td>\n",
       "    </tr>\n",
       "  </tbody>\n",
       "</table>\n",
       "<p>5503 rows × 5 columns</p>\n",
       "</div>"
      ],
      "text/plain": [
       "      teacher_id  delay_diff_min  strength  present  attendance\n",
       "0             23               3        48       39          81\n",
       "1             45              -1        44       32          72\n",
       "2             50               0        38       20          53\n",
       "3             82               1        47       40          84\n",
       "4             87               0        32       27          86\n",
       "...          ...             ...       ...      ...         ...\n",
       "5498       11208              -2        82        4           6\n",
       "5499       11212               1        48       14          30\n",
       "5500       11254               0        34       25          72\n",
       "5501       11296               0        18       18          97\n",
       "5502       11415               1        41       32          78\n",
       "\n",
       "[5503 rows x 5 columns]"
      ]
     },
     "execution_count": 37,
     "metadata": {},
     "output_type": "execute_result"
    }
   ],
   "source": [
    "df"
   ]
  },
  {
   "cell_type": "code",
   "execution_count": 38,
   "metadata": {},
   "outputs": [],
   "source": [
    "conditions = [\n",
    "    (df['delay_diff_min'] <= 0),\n",
    "    (df['delay_diff_min'] >= 0) & (df['delay_diff_min'] <= 1),\n",
    "    (df['delay_diff_min'] >= 2) & (df['delay_diff_min'] <= 3),\n",
    "    (df['delay_diff_min'] >= 4) & (df['delay_diff_min'] <= 5),\n",
    "    (df['delay_diff_min'] >= 6) & (df['delay_diff_min'] <= 8),\n",
    "    (df['delay_diff_min'] >= 9) & (df['delay_diff_min'] <= 10),\n",
    "    (df['delay_diff_min'] >= 11) & (df['delay_diff_min'] <= 12),\n",
    "    (df['delay_diff_min'] >= 13) & (df['delay_diff_min'] <= 14),\n",
    "    (df['delay_diff_min'] >= 15) & (df['delay_diff_min'] <= 18),\n",
    "    (df['delay_diff_min'] >= 19) & (df['delay_diff_min'] <= 20),\n",
    "    (df['delay_diff_min'] >= 21)\n",
    "    ]\n"
   ]
  },
  {
   "cell_type": "markdown",
   "metadata": {},
   "source": [
    "### Creating a list of the values we want to assign for each condition\n",
    "\n"
   ]
  },
  {
   "cell_type": "code",
   "execution_count": 39,
   "metadata": {},
   "outputs": [],
   "source": [
    "\n",
    "values = ['no_delay', 'delay_0-1min',  'delay_2-3min', 'delay_4-5min', \n",
    "          'delay_6-8min', 'delay_9-10min', 'delay_11-12min', 'delay_13-14min', \n",
    "          'delay_15-18min', 'delay_19-20min',  'delay_>21min']\n",
    "\n"
   ]
  },
  {
   "cell_type": "markdown",
   "metadata": {},
   "source": [
    "### Creating a new column and using np.select to assign values to it using our lists as arguments\n"
   ]
  },
  {
   "cell_type": "code",
   "execution_count": 40,
   "metadata": {},
   "outputs": [],
   "source": [
    "df['delay_Category'] = np.select(conditions, values)"
   ]
  },
  {
   "cell_type": "code",
   "execution_count": 41,
   "metadata": {},
   "outputs": [
    {
     "data": {
      "text/html": [
       "<div>\n",
       "<style scoped>\n",
       "    .dataframe tbody tr th:only-of-type {\n",
       "        vertical-align: middle;\n",
       "    }\n",
       "\n",
       "    .dataframe tbody tr th {\n",
       "        vertical-align: top;\n",
       "    }\n",
       "\n",
       "    .dataframe thead th {\n",
       "        text-align: right;\n",
       "    }\n",
       "</style>\n",
       "<table border=\"1\" class=\"dataframe\">\n",
       "  <thead>\n",
       "    <tr style=\"text-align: right;\">\n",
       "      <th></th>\n",
       "      <th>teacher_id</th>\n",
       "      <th>delay_diff_min</th>\n",
       "      <th>strength</th>\n",
       "      <th>present</th>\n",
       "      <th>attendance</th>\n",
       "      <th>delay_Category</th>\n",
       "    </tr>\n",
       "  </thead>\n",
       "  <tbody>\n",
       "    <tr>\n",
       "      <th>0</th>\n",
       "      <td>23</td>\n",
       "      <td>3</td>\n",
       "      <td>48</td>\n",
       "      <td>39</td>\n",
       "      <td>81</td>\n",
       "      <td>delay_2-3min</td>\n",
       "    </tr>\n",
       "    <tr>\n",
       "      <th>1</th>\n",
       "      <td>45</td>\n",
       "      <td>-1</td>\n",
       "      <td>44</td>\n",
       "      <td>32</td>\n",
       "      <td>72</td>\n",
       "      <td>no_delay</td>\n",
       "    </tr>\n",
       "    <tr>\n",
       "      <th>2</th>\n",
       "      <td>50</td>\n",
       "      <td>0</td>\n",
       "      <td>38</td>\n",
       "      <td>20</td>\n",
       "      <td>53</td>\n",
       "      <td>no_delay</td>\n",
       "    </tr>\n",
       "    <tr>\n",
       "      <th>3</th>\n",
       "      <td>82</td>\n",
       "      <td>1</td>\n",
       "      <td>47</td>\n",
       "      <td>40</td>\n",
       "      <td>84</td>\n",
       "      <td>delay_0-1min</td>\n",
       "    </tr>\n",
       "    <tr>\n",
       "      <th>4</th>\n",
       "      <td>87</td>\n",
       "      <td>0</td>\n",
       "      <td>32</td>\n",
       "      <td>27</td>\n",
       "      <td>86</td>\n",
       "      <td>no_delay</td>\n",
       "    </tr>\n",
       "    <tr>\n",
       "      <th>...</th>\n",
       "      <td>...</td>\n",
       "      <td>...</td>\n",
       "      <td>...</td>\n",
       "      <td>...</td>\n",
       "      <td>...</td>\n",
       "      <td>...</td>\n",
       "    </tr>\n",
       "    <tr>\n",
       "      <th>5498</th>\n",
       "      <td>11208</td>\n",
       "      <td>-2</td>\n",
       "      <td>82</td>\n",
       "      <td>4</td>\n",
       "      <td>6</td>\n",
       "      <td>no_delay</td>\n",
       "    </tr>\n",
       "    <tr>\n",
       "      <th>5499</th>\n",
       "      <td>11212</td>\n",
       "      <td>1</td>\n",
       "      <td>48</td>\n",
       "      <td>14</td>\n",
       "      <td>30</td>\n",
       "      <td>delay_0-1min</td>\n",
       "    </tr>\n",
       "    <tr>\n",
       "      <th>5500</th>\n",
       "      <td>11254</td>\n",
       "      <td>0</td>\n",
       "      <td>34</td>\n",
       "      <td>25</td>\n",
       "      <td>72</td>\n",
       "      <td>no_delay</td>\n",
       "    </tr>\n",
       "    <tr>\n",
       "      <th>5501</th>\n",
       "      <td>11296</td>\n",
       "      <td>0</td>\n",
       "      <td>18</td>\n",
       "      <td>18</td>\n",
       "      <td>97</td>\n",
       "      <td>no_delay</td>\n",
       "    </tr>\n",
       "    <tr>\n",
       "      <th>5502</th>\n",
       "      <td>11415</td>\n",
       "      <td>1</td>\n",
       "      <td>41</td>\n",
       "      <td>32</td>\n",
       "      <td>78</td>\n",
       "      <td>delay_0-1min</td>\n",
       "    </tr>\n",
       "  </tbody>\n",
       "</table>\n",
       "<p>5503 rows × 6 columns</p>\n",
       "</div>"
      ],
      "text/plain": [
       "      teacher_id  delay_diff_min  strength  present  attendance delay_Category\n",
       "0             23               3        48       39          81   delay_2-3min\n",
       "1             45              -1        44       32          72       no_delay\n",
       "2             50               0        38       20          53       no_delay\n",
       "3             82               1        47       40          84   delay_0-1min\n",
       "4             87               0        32       27          86       no_delay\n",
       "...          ...             ...       ...      ...         ...            ...\n",
       "5498       11208              -2        82        4           6       no_delay\n",
       "5499       11212               1        48       14          30   delay_0-1min\n",
       "5500       11254               0        34       25          72       no_delay\n",
       "5501       11296               0        18       18          97       no_delay\n",
       "5502       11415               1        41       32          78   delay_0-1min\n",
       "\n",
       "[5503 rows x 6 columns]"
      ]
     },
     "execution_count": 41,
     "metadata": {},
     "output_type": "execute_result"
    }
   ],
   "source": [
    "df"
   ]
  },
  {
   "cell_type": "code",
   "execution_count": 42,
   "metadata": {},
   "outputs": [
    {
     "data": {
      "text/html": [
       "<div>\n",
       "<style scoped>\n",
       "    .dataframe tbody tr th:only-of-type {\n",
       "        vertical-align: middle;\n",
       "    }\n",
       "\n",
       "    .dataframe tbody tr th {\n",
       "        vertical-align: top;\n",
       "    }\n",
       "\n",
       "    .dataframe thead th {\n",
       "        text-align: right;\n",
       "    }\n",
       "</style>\n",
       "<table border=\"1\" class=\"dataframe\">\n",
       "  <thead>\n",
       "    <tr style=\"text-align: right;\">\n",
       "      <th></th>\n",
       "      <th>teacher_id</th>\n",
       "      <th>delay_diff_min</th>\n",
       "      <th>strength</th>\n",
       "      <th>present</th>\n",
       "      <th>attendance</th>\n",
       "    </tr>\n",
       "    <tr>\n",
       "      <th>delay_Category</th>\n",
       "      <th></th>\n",
       "      <th></th>\n",
       "      <th></th>\n",
       "      <th></th>\n",
       "      <th></th>\n",
       "    </tr>\n",
       "  </thead>\n",
       "  <tbody>\n",
       "    <tr>\n",
       "      <th>delay_0-1min</th>\n",
       "      <td>1280</td>\n",
       "      <td>1</td>\n",
       "      <td>181</td>\n",
       "      <td>107</td>\n",
       "      <td>85</td>\n",
       "    </tr>\n",
       "    <tr>\n",
       "      <th>delay_11-12min</th>\n",
       "      <td>2</td>\n",
       "      <td>2</td>\n",
       "      <td>2</td>\n",
       "      <td>2</td>\n",
       "      <td>2</td>\n",
       "    </tr>\n",
       "    <tr>\n",
       "      <th>delay_13-14min</th>\n",
       "      <td>2</td>\n",
       "      <td>1</td>\n",
       "      <td>2</td>\n",
       "      <td>2</td>\n",
       "      <td>2</td>\n",
       "    </tr>\n",
       "    <tr>\n",
       "      <th>delay_15-18min</th>\n",
       "      <td>4</td>\n",
       "      <td>2</td>\n",
       "      <td>4</td>\n",
       "      <td>4</td>\n",
       "      <td>4</td>\n",
       "    </tr>\n",
       "    <tr>\n",
       "      <th>delay_19-20min</th>\n",
       "      <td>2</td>\n",
       "      <td>1</td>\n",
       "      <td>2</td>\n",
       "      <td>2</td>\n",
       "      <td>2</td>\n",
       "    </tr>\n",
       "    <tr>\n",
       "      <th>delay_2-3min</th>\n",
       "      <td>949</td>\n",
       "      <td>2</td>\n",
       "      <td>153</td>\n",
       "      <td>88</td>\n",
       "      <td>87</td>\n",
       "    </tr>\n",
       "    <tr>\n",
       "      <th>delay_4-5min</th>\n",
       "      <td>131</td>\n",
       "      <td>2</td>\n",
       "      <td>85</td>\n",
       "      <td>56</td>\n",
       "      <td>64</td>\n",
       "    </tr>\n",
       "    <tr>\n",
       "      <th>delay_6-8min</th>\n",
       "      <td>23</td>\n",
       "      <td>3</td>\n",
       "      <td>20</td>\n",
       "      <td>17</td>\n",
       "      <td>21</td>\n",
       "    </tr>\n",
       "    <tr>\n",
       "      <th>delay_9-10min</th>\n",
       "      <td>12</td>\n",
       "      <td>2</td>\n",
       "      <td>12</td>\n",
       "      <td>9</td>\n",
       "      <td>10</td>\n",
       "    </tr>\n",
       "    <tr>\n",
       "      <th>delay_&gt;21min</th>\n",
       "      <td>4</td>\n",
       "      <td>3</td>\n",
       "      <td>4</td>\n",
       "      <td>4</td>\n",
       "      <td>4</td>\n",
       "    </tr>\n",
       "    <tr>\n",
       "      <th>no_delay</th>\n",
       "      <td>3094</td>\n",
       "      <td>5</td>\n",
       "      <td>217</td>\n",
       "      <td>116</td>\n",
       "      <td>97</td>\n",
       "    </tr>\n",
       "  </tbody>\n",
       "</table>\n",
       "</div>"
      ],
      "text/plain": [
       "                teacher_id  delay_diff_min  strength  present  attendance\n",
       "delay_Category                                                           \n",
       "delay_0-1min          1280               1       181      107          85\n",
       "delay_11-12min           2               2         2        2           2\n",
       "delay_13-14min           2               1         2        2           2\n",
       "delay_15-18min           4               2         4        4           4\n",
       "delay_19-20min           2               1         2        2           2\n",
       "delay_2-3min           949               2       153       88          87\n",
       "delay_4-5min           131               2        85       56          64\n",
       "delay_6-8min            23               3        20       17          21\n",
       "delay_9-10min           12               2        12        9          10\n",
       "delay_>21min             4               3         4        4           4\n",
       "no_delay              3094               5       217      116          97"
      ]
     },
     "execution_count": 42,
     "metadata": {},
     "output_type": "execute_result"
    }
   ],
   "source": [
    "df.groupby('delay_Category').nunique()"
   ]
  },
  {
   "cell_type": "markdown",
   "metadata": {},
   "source": [
    "### Counting teachers in each delay category:-"
   ]
  },
  {
   "cell_type": "code",
   "execution_count": 19,
   "metadata": {},
   "outputs": [
    {
     "data": {
      "text/plain": [
       "delay_Category\n",
       "delay_0-1min      1280\n",
       "delay_11-12min       2\n",
       "delay_13-14min       2\n",
       "delay_15-18min       4\n",
       "delay_19-20min       2\n",
       "delay_2-3min       949\n",
       "delay_4-5min       131\n",
       "delay_6-8min        23\n",
       "delay_9-10min       12\n",
       "delay_>21min         4\n",
       "no_delay          3094\n",
       "Name: teacher_id, dtype: int64"
      ]
     },
     "execution_count": 19,
     "metadata": {},
     "output_type": "execute_result"
    }
   ],
   "source": [
    "df.groupby('delay_Category')['teacher_id'].count()"
   ]
  },
  {
   "cell_type": "markdown",
   "metadata": {},
   "source": [
    "### Plotting attendance for all delay categories of teacher. "
   ]
  },
  {
   "cell_type": "code",
   "execution_count": 20,
   "metadata": {},
   "outputs": [
    {
     "data": {
      "text/plain": [
       "<matplotlib.axes._subplots.AxesSubplot at 0x1cbacb93df0>"
      ]
     },
     "execution_count": 20,
     "metadata": {},
     "output_type": "execute_result"
    },
    {
     "data": {
      "image/png": "[encoded data removed]",
      "text/plain": [
       "<Figure size 432x288 with 1 Axes>"
      ]
     },
     "metadata": {
      "needs_background": "light"
     },
     "output_type": "display_data"
    }
   ],
   "source": [
    "sns.distplot((df[df['delay_Category']=='no_delay']['attendance']), bins=10)"
   ]
  },
  {
   "cell_type": "code",
   "execution_count": 21,
   "metadata": {},
   "outputs": [
    {
     "data": {
      "text/plain": [
       "<matplotlib.axes._subplots.AxesSubplot at 0x1cbac1d7670>"
      ]
     },
     "execution_count": 21,
     "metadata": {},
     "output_type": "execute_result"
    },
    {
     "data": {
      "image/png": "[encoded data removed]",
      "text/plain": [
       "<Figure size 432x288 with 1 Axes>"
      ]
     },
     "metadata": {
      "needs_background": "light"
     },
     "output_type": "display_data"
    }
   ],
   "source": [
    "sns.distplot((df[df['delay_Category']=='delay_0-1min']['attendance']), bins=10)"
   ]
  },
  {
   "cell_type": "code",
   "execution_count": 22,
   "metadata": {},
   "outputs": [
    {
     "data": {
      "text/plain": [
       "<matplotlib.axes._subplots.AxesSubplot at 0x1cbacc60f40>"
      ]
     },
     "execution_count": 22,
     "metadata": {},
     "output_type": "execute_result"
    },
    {
     "data": {
      "image/png": "[encoded data removed]",
      "text/plain": [
       "<Figure size 432x288 with 1 Axes>"
      ]
     },
     "metadata": {
      "needs_background": "light"
     },
     "output_type": "display_data"
    }
   ],
   "source": [
    "sns.distplot((df[df['delay_Category']=='delay_2-3min']['attendance']), bins=10)"
   ]
  },
  {
   "cell_type": "code",
   "execution_count": 23,
   "metadata": {},
   "outputs": [
    {
     "data": {
      "text/plain": [
       "<matplotlib.axes._subplots.AxesSubplot at 0x1cbaccdb4f0>"
      ]
     },
     "execution_count": 23,
     "metadata": {},
     "output_type": "execute_result"
    },
    {
     "data": {
      "image/png": "[encoded data removed]",
      "text/plain": [
       "<Figure size 432x288 with 1 Axes>"
      ]
     },
     "metadata": {
      "needs_background": "light"
     },
     "output_type": "display_data"
    }
   ],
   "source": [
    "sns.distplot((df[df['delay_Category']=='delay_4-5min']['attendance']), bins=10)"
   ]
  },
  {
   "cell_type": "code",
   "execution_count": 24,
   "metadata": {},
   "outputs": [
    {
     "data": {
      "text/plain": [
       "<matplotlib.axes._subplots.AxesSubplot at 0x1cbacd49820>"
      ]
     },
     "execution_count": 24,
     "metadata": {},
     "output_type": "execute_result"
    },
    {
     "data": {
      "image/png": "[encoded data removed]",
      "text/plain": [
       "<Figure size 432x288 with 1 Axes>"
      ]
     },
     "metadata": {
      "needs_background": "light"
     },
     "output_type": "display_data"
    }
   ],
   "source": [
    "sns.distplot((df[df['delay_Category']=='delay_6-8min']['attendance']), bins=10)"
   ]
  },
  {
   "cell_type": "code",
   "execution_count": 25,
   "metadata": {},
   "outputs": [
    {
     "data": {
      "text/plain": [
       "<matplotlib.axes._subplots.AxesSubplot at 0x1cbaca301f0>"
      ]
     },
     "execution_count": 25,
     "metadata": {},
     "output_type": "execute_result"
    },
    {
     "data": {
      "image/png": "[encoded data removed]",
      "text/plain": [
       "<Figure size 432x288 with 1 Axes>"
      ]
     },
     "metadata": {
      "needs_background": "light"
     },
     "output_type": "display_data"
    }
   ],
   "source": [
    "sns.distplot((df[df['delay_Category']=='delay_9-10min']['attendance']), bins=10)"
   ]
  },
  {
   "cell_type": "code",
   "execution_count": 26,
   "metadata": {},
   "outputs": [
    {
     "data": {
      "text/plain": [
       "<matplotlib.axes._subplots.AxesSubplot at 0x1cbace0a640>"
      ]
     },
     "execution_count": 26,
     "metadata": {},
     "output_type": "execute_result"
    },
    {
     "data": {
      "image/png": "[encoded data removed]",
      "text/plain": [
       "<Figure size 432x288 with 1 Axes>"
      ]
     },
     "metadata": {
      "needs_background": "light"
     },
     "output_type": "display_data"
    }
   ],
   "source": [
    "sns.distplot((df[df['delay_Category']=='delay_11-12min']['attendance']), bins=10)"
   ]
  },
  {
   "cell_type": "code",
   "execution_count": 27,
   "metadata": {},
   "outputs": [
    {
     "data": {
      "text/plain": [
       "<matplotlib.axes._subplots.AxesSubplot at 0x1cbace7b550>"
      ]
     },
     "execution_count": 27,
     "metadata": {},
     "output_type": "execute_result"
    },
    {
     "data": {
      "image/png": "[encoded data removed]",
      "text/plain": [
       "<Figure size 432x288 with 1 Axes>"
      ]
     },
     "metadata": {
      "needs_background": "light"
     },
     "output_type": "display_data"
    }
   ],
   "source": [
    "sns.distplot((df[df['delay_Category']=='delay_13-14min']['attendance']), bins=10)"
   ]
  },
  {
   "cell_type": "code",
   "execution_count": 28,
   "metadata": {},
   "outputs": [
    {
     "data": {
      "text/plain": [
       "<matplotlib.axes._subplots.AxesSubplot at 0x1cbaced27c0>"
      ]
     },
     "execution_count": 28,
     "metadata": {},
     "output_type": "execute_result"
    },
    {
     "data": {
      "image/png": "[encoded data removed]",
      "text/plain": [
       "<Figure size 432x288 with 1 Axes>"
      ]
     },
     "metadata": {
      "needs_background": "light"
     },
     "output_type": "display_data"
    }
   ],
   "source": [
    "sns.distplot((df[df['delay_Category']=='delay_15-18min']['attendance']), bins=10)\n"
   ]
  },
  {
   "cell_type": "code",
   "execution_count": 29,
   "metadata": {},
   "outputs": [
    {
     "data": {
      "text/plain": [
       "<matplotlib.axes._subplots.AxesSubplot at 0x1cbacf56130>"
      ]
     },
     "execution_count": 29,
     "metadata": {},
     "output_type": "execute_result"
    },
    {
     "data": {
      "image/png": "[encoded data removed]",
      "text/plain": [
       "<Figure size 432x288 with 1 Axes>"
      ]
     },
     "metadata": {
      "needs_background": "light"
     },
     "output_type": "display_data"
    }
   ],
   "source": [
    "sns.distplot((df[df['delay_Category']=='delay_19-20min']['attendance']), bins=10)\n"
   ]
  },
  {
   "cell_type": "code",
   "execution_count": 30,
   "metadata": {},
   "outputs": [
    {
     "data": {
      "text/plain": [
       "<matplotlib.axes._subplots.AxesSubplot at 0x1cbacfc73d0>"
      ]
     },
     "execution_count": 30,
     "metadata": {},
     "output_type": "execute_result"
    },
    {
     "data": {
      "image/png": "[encoded data removed]",
      "text/plain": [
       "<Figure size 432x288 with 1 Axes>"
      ]
     },
     "metadata": {
      "needs_background": "light"
     },
     "output_type": "display_data"
    }
   ],
   "source": [
    "sns.distplot((df[df['delay_Category']=='delay_>21min']['attendance']), bins=10)\n"
   ]
  },
  {
   "cell_type": "markdown",
   "metadata": {},
   "source": [
    "### As you can see in the above plots for teachers whose average delay>10min, attendance reduces drastically. "
   ]
  },
  {
   "cell_type": "markdown",
   "metadata": {},
   "source": [
    "### The difference with the previous notebook: \n",
    "### Earlier we plotted attendance for lectures with various delays of teacher. Here we plotted average attendance of students of all lectures for a respective teacher post calculating average delays of each teacher joining the live class. We did this in order to be crystal clear of the analysis. "
   ]
  },
  {
   "cell_type": "code",
   "execution_count": null,
   "metadata": {},
   "outputs": [],
   "source": []
  }
 ],
 "metadata": {
  "kernelspec": {
   "display_name": "Python 3",
   "language": "python",
   "name": "python3"
  },
  "language_info": {
   "codemirror_mode": {
    "name": "ipython",
    "version": 3
   },
   "file_extension": ".py",
   "mimetype": "text/x-python",
   "name": "python",
   "nbconvert_exporter": "python",
   "pygments_lexer": "ipython3",
   "version": "3.8.3"
  }
 },
 "nbformat": 4,
 "nbformat_minor": 4
}
